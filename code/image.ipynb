{
 "cells": [
  {
   "cell_type": "code",
   "execution_count": 1,
   "metadata": {},
   "outputs": [],
   "source": [
    "import numpy as np\n",
    "import matplotlib.pyplot as plt\n",
    "import os\n",
    "from scipy.fftpack import dct, idct\n",
    "from PIL import Image\n",
    "from matrepr import mdisplay, mprint, to_html"
   ]
  },
  {
   "cell_type": "code",
   "execution_count": 2,
   "metadata": {},
   "outputs": [],
   "source": [
    "# recortar imagem para o tamanho desejado\n",
    "def crop_img(img, size):\n",
    "    w, h = img.size\n",
    "    left = (w - size) // 2\n",
    "    top = (h - size) // 2\n",
    "    right = (w + size) // 2\n",
    "    bottom = (h + size) // 2\n",
    "    return img.crop((left, top, right, bottom))\n",
    "\n",
    "# Tabela padrão de quantização do JPEG quantization para luminância em blocos 8x8\n",
    "jpeg_quant_table = np.array([\n",
    "    [16, 11, 10, 16, 24, 40, 51, 61],\n",
    "    [12, 12, 14, 19, 26, 58, 60, 55],\n",
    "    [14, 13, 16, 24, 40, 57, 69, 56],\n",
    "    [14, 17, 22, 29, 51, 87, 80, 62],\n",
    "    [18, 22, 37, 56, 68, 109, 103, 77],\n",
    "    [24, 35, 55, 64, 81, 104, 113, 92],\n",
    "    [49, 64, 78, 87, 103, 121, 120, 101],\n",
    "    [72, 92, 95, 98, 112, 100, 103, 99]\n",
    "])\n",
    "\n",
    "# Aplica a DCT na imagem toda por blocos\n",
    "def block_dct(image, block_size=8):\n",
    "    h, w = image.shape\n",
    "    dct_image = np.zeros((w, h))\n",
    "    reconstructed_img = np.zeros((w, h))\n",
    "    for row in range(0, h, block_size):\n",
    "        for col in range(0, w, block_size):\n",
    "            block = image[row:row + block_size, col:col + block_size]\n",
    "            shifted_block = block - 128\n",
    "            dct_block = dct(dct(shifted_block.T, norm='ortho').T, norm='ortho')\n",
    "            quantized_dct_block = np.round(dct_block / jpeg_quant_table)\n",
    "            dct_image[row:row + block_size, col:col + block_size] = quantized_dct_block\n",
    "            \n",
    "            dequantized_dct_block = quantized_dct_block * jpeg_quant_table\n",
    "            reconstructed_block = idct(idct(dequantized_dct_block.T, norm='ortho').T, norm='ortho')\n",
    "            reconstructed_block += 128\n",
    "            reconstructed_img[row:row + block_size, col:col + block_size] = reconstructed_block\n",
    "    return reconstructed_img, dct_image"
   ]
  },
  {
   "cell_type": "markdown",
   "metadata": {},
   "source": [
    "### Seleção de bloco para processamento"
   ]
  },
  {
   "cell_type": "code",
   "execution_count": null,
   "metadata": {},
   "outputs": [],
   "source": [
    "IMG_DIR = 'data'\n",
    "img = Image.open(os.path.join(IMG_DIR, 'uni-1024.png')).convert('L')\n",
    "img"
   ]
  },
  {
   "cell_type": "code",
   "execution_count": null,
   "metadata": {},
   "outputs": [],
   "source": [
    "cropped = crop_img(img, 400)\n",
    "cropped"
   ]
  },
  {
   "cell_type": "code",
   "execution_count": null,
   "metadata": {},
   "outputs": [],
   "source": [
    "block_size = 8\n",
    "np.random.seed(777)  # reproducibilidade\n",
    "if img:\n",
    "    w, h = img.size\n",
    "    rng = np.random.default_rng()\n",
    "    cx, cy = rng.integers(0, min(w, h) - block_size, 2)\n",
    "    image_block = np.array(img, dtype=np.float64)[cx:cx + block_size, cy:cy + block_size]\n",
    "else:\n",
    "    # Gera um block 8x8 na forma de um gradiente suave com ruído\n",
    "    image_block = np.linspace(0, 255, block_size ** 2).reshape(block_size, block_size)\n",
    "    image_block = image_block + np.random.normal(scale=10, size=(block_size, block_size))\n",
    "\n",
    "# Centra os valores em relação ao 0\n",
    "shifted_block = image_block - 128\n",
    "shifted_block"
   ]
  },
  {
   "cell_type": "markdown",
   "metadata": {},
   "source": [
    "### DCT e compactação de energia"
   ]
  },
  {
   "cell_type": "code",
   "execution_count": null,
   "metadata": {},
   "outputs": [],
   "source": [
    "# DCT 2D aplicada a um bloco\n",
    "dct_block = dct(dct(shifted_block.T, norm='ortho').T, norm='ortho')\n",
    "\n",
    "# Visualiza o bloco original e os coeficientes da DCT \n",
    "plt.figure(figsize=(12, 6))\n",
    "\n",
    "# Original\n",
    "plt.subplot(1, 2, 1)\n",
    "plt.imshow(shifted_block, cmap='gray', extent=[0, block_size, block_size, 0])\n",
    "plt.title(\"Original 8x8 Block (Spatial Domain)\")\n",
    "plt.colorbar(label=\"Intensity\")\n",
    "plt.axis(\"off\")\n",
    "\n",
    "# Coeficientes da DCT  (note a concentração de energia)\n",
    "plt.subplot(1, 2, 2)\n",
    "plt.imshow(np.abs(dct_block), cmap='hot', extent=[0, block_size, block_size, 0])\n",
    "plt.title(\"DCT Coefficients (Frequency Domain)\")\n",
    "plt.colorbar(label=\"Magnitude\")\n",
    "plt.axis(\"off\")\n",
    "\n",
    "plt.tight_layout()\n",
    "plt.show()"
   ]
  },
  {
   "cell_type": "markdown",
   "metadata": {},
   "source": [
    "### Reconstrução de um bloco após DCT e Quantização"
   ]
  },
  {
   "cell_type": "code",
   "execution_count": null,
   "metadata": {},
   "outputs": [],
   "source": [
    "# Quantize the DCT coefficients by dividing by the quantization table and rounding\n",
    "quantized_dct_block = np.round(dct_block / jpeg_quant_table)\n",
    "# Reconstruct the block from the quantized DCT coefficients (for comparison)\n",
    "dequantized_dct_block = quantized_dct_block * jpeg_quant_table\n",
    "reconstructed_block = idct(idct(dequantized_dct_block.T, norm='ortho').T, norm='ortho')\n",
    "\n",
    "# Visualize original block, quantized DCT coefficients, and reconstructed block\n",
    "plt.figure(figsize=(18, 6))\n",
    "\n",
    "# Original block\n",
    "plt.subplot(1, 2, 1)\n",
    "plt.imshow(image_block, cmap='gray', extent=[0, block_size, block_size, 0])\n",
    "plt.title(\"Original 8x8 Block (Spatial Domain)\")\n",
    "plt.colorbar(label=\"Intensity\")\n",
    "plt.axis(\"off\")\n",
    "\n",
    "# Reconstructed block from quantized coefficients\n",
    "plt.subplot(1, 2, 2)\n",
    "plt.imshow(reconstructed_block, cmap='gray', extent=[0, block_size, block_size, 0])\n",
    "plt.title(\"Reconstructed Block (After Quantization)\")\n",
    "plt.colorbar(label=\"Intensity\")\n",
    "plt.axis(\"off\")\n",
    "\n",
    "plt.tight_layout()\n",
    "plt.show()"
   ]
  },
  {
   "cell_type": "markdown",
   "metadata": {},
   "source": [
    "### Bloco quantizado"
   ]
  },
  {
   "cell_type": "code",
   "execution_count": null,
   "metadata": {},
   "outputs": [],
   "source": [
    "# Visualiza coeficientes quantizados\n",
    "plt.imshow(quantized_dct_block, cmap='hot', extent=[0, block_size, block_size, 0])\n",
    "plt.title(\"Quantized DCT Coefficients\")\n",
    "plt.colorbar(label=\"Quantized Value\")\n",
    "plt.axis(\"off\")"
   ]
  },
  {
   "cell_type": "code",
   "execution_count": null,
   "metadata": {},
   "outputs": [],
   "source": [
    "html_table = to_html(quantized_dct_block)\n",
    "with open('table.html', 'w') as f:\n",
    "    f.write(html_table)\n",
    "mdisplay(quantized_dct_block)"
   ]
  },
  {
   "cell_type": "markdown",
   "metadata": {},
   "source": [
    "## Visualiza original e descomprimido"
   ]
  },
  {
   "cell_type": "code",
   "execution_count": 10,
   "metadata": {},
   "outputs": [],
   "source": [
    "decompressed, _ = block_dct(np.array(cropped, dtype=np.float64), block_size)\n",
    "decompressed = np.clip(decompressed, 0, 255).astype(np.uint8)"
   ]
  },
  {
   "cell_type": "code",
   "execution_count": null,
   "metadata": {},
   "outputs": [],
   "source": [
    "Image.fromarray(np.hstack([np.array(cropped), decompressed]))"
   ]
  },
  {
   "cell_type": "markdown",
   "metadata": {},
   "source": [
    "### Visualiza diferença entre original e descomprimido"
   ]
  },
  {
   "cell_type": "code",
   "execution_count": 13,
   "metadata": {},
   "outputs": [],
   "source": [
    "diff = np.abs(np.array(cropped, dtype=np.float64) - decompressed)\n",
    "normdiff = (diff - np.min(diff)) / (np.max(diff) - np.min(diff))\n",
    "normdiff = (255 * normdiff).astype(np.uint8)"
   ]
  },
  {
   "cell_type": "code",
   "execution_count": null,
   "metadata": {},
   "outputs": [],
   "source": [
    "Image.fromarray(np.hstack([diff.astype(np.uint8), normdiff]))"
   ]
  }
 ],
 "metadata": {
  "kernelspec": {
   "display_name": "venv",
   "language": "python",
   "name": "python3"
  },
  "language_info": {
   "codemirror_mode": {
    "name": "ipython",
    "version": 3
   },
   "file_extension": ".py",
   "mimetype": "text/x-python",
   "name": "python",
   "nbconvert_exporter": "python",
   "pygments_lexer": "ipython3",
   "version": "3.13.0"
  }
 },
 "nbformat": 4,
 "nbformat_minor": 2
}
